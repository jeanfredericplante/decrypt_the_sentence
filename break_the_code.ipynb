{
  "nbformat": 4,
  "nbformat_minor": 0,
  "metadata": {
    "colab": {
      "name": "break the code.ipynb",
      "provenance": []
    },
    "kernelspec": {
      "name": "python3",
      "display_name": "Python 3"
    }
  },
  "cells": [
    {
      "cell_type": "markdown",
      "metadata": {
        "id": "JGDISIdCm7UL",
        "colab_type": "text"
      },
      "source": [
        "# Package install and functions"
      ]
    },
    {
      "cell_type": "code",
      "metadata": {
        "id": "UBQiedS_mwwp",
        "colab_type": "code",
        "colab": {
          "base_uri": "https://localhost:8080/",
          "height": 190
        },
        "outputId": "eb91d3da-c51d-43e5-c827-120f90f741c2"
      },
      "source": [
        "!pip install --upgrade fpdf"
      ],
      "execution_count": 1,
      "outputs": [
        {
          "output_type": "stream",
          "text": [
            "Collecting fpdf\n",
            "  Downloading https://files.pythonhosted.org/packages/37/c6/608a9e6c172bf9124aa687ec8b9f0e8e5d697d59a5f4fad0e2d5ec2a7556/fpdf-1.7.2.tar.gz\n",
            "Building wheels for collected packages: fpdf\n",
            "  Building wheel for fpdf (setup.py) ... \u001b[?25l\u001b[?25hdone\n",
            "  Created wheel for fpdf: filename=fpdf-1.7.2-py2.py3-none-any.whl size=40720 sha256=4aefa128b155c7a70f666fc84aa46f38b82ffecd7f9910a230dc01b78b81802b\n",
            "  Stored in directory: /root/.cache/pip/wheels/9a/e9/77/4554ff5c99bc3f487c8d69620d8c41d99d54e9c54ab20ef4c9\n",
            "Successfully built fpdf\n",
            "Installing collected packages: fpdf\n",
            "Successfully installed fpdf-1.7.2\n"
          ],
          "name": "stdout"
        }
      ]
    },
    {
      "cell_type": "code",
      "metadata": {
        "id": "uOJX-ZKvnB55",
        "colab_type": "code",
        "colab": {}
      },
      "source": [
        "import random \n",
        "from random import randint\n",
        "def get_decoder_list(char_set):\n",
        "  max_op_res = 200\n",
        "  num_list = []\n",
        "  while len(num_list) <= len(char_set):\n",
        "    r=random.randint(1,max_op_res)\n",
        "    if r not in num_list: num_list.append(r)\n",
        "  return dict(list(zip(char_set,num_list)))"
      ],
      "execution_count": 0,
      "outputs": []
    },
    {
      "cell_type": "code",
      "metadata": {
        "id": "MWeKCfZAnEtq",
        "colab_type": "code",
        "colab": {}
      },
      "source": [
        "def sentence_writing(sentence, decoder_ring):\n",
        "  sentence_coded = []\n",
        "  s_word = []\n",
        "  for c in sentence:\n",
        "    if c == \" \":\n",
        "      sentence_coded.append(s_word)\n",
        "      s_word = []\n",
        "    else:\n",
        "      try:\n",
        "        s_word.append(decoder_ring[c])\n",
        "      except:\n",
        "        print(f\"{c} not found in decoder ring\")\n",
        "  sentence_coded.append(s_word)\n",
        "  return sentence_coded\n"
      ],
      "execution_count": 0,
      "outputs": []
    },
    {
      "cell_type": "code",
      "metadata": {
        "id": "aNyp7jdqnGxp",
        "colab_type": "code",
        "colab": {}
      },
      "source": [
        "def grouped_by_line(sentence_coded, max_char_line = 10):\n",
        "\n",
        "  cline = []\n",
        "  array_to_write = []\n",
        "  for w in sentence_coded:\n",
        "    clinelen = sum([len(wc) for wc in cline])\n",
        "    if (clinelen + len(w)) >= max_char_line:\n",
        "      array_to_write.append(cline)\n",
        "      cline = []\n",
        "    cline.append(w)\n",
        "    cline.append(\" \")\n",
        "  array_to_write.append(cline)\n",
        "  return array_to_write\n"
      ],
      "execution_count": 0,
      "outputs": []
    },
    {
      "cell_type": "code",
      "metadata": {
        "id": "IjYgH6wtnJHR",
        "colab_type": "code",
        "colab": {}
      },
      "source": [
        "def generate_operations(decoder_ring, ops=['multiply','add','divide','subtract']):\n",
        "  num_calc=len(decoder_ring)\n",
        "  num_op = len(ops)\n",
        "  calc_dict = {}\n",
        "  for c,v in decoder_ring.items():\n",
        "    if is_prime(v):\n",
        "      o = random.choice(['add','subtract'])\n",
        "    else:\n",
        "      o = random.choice(ops)\n",
        "    if o == \"multiply\":\n",
        "      print(c,\" and \",v)\n",
        "      invalid_operation = True\n",
        "      while (invalid_operation):\n",
        "        a = random.randint(1,v)\n",
        "        rem = v%a\n",
        "        if (rem == 0) & (a > 1):\n",
        "          invalid_operation = False\n",
        "\n",
        "      b = int(max(v/a, a/v))\n",
        "      calc_dict[c] = str(f\"{a} x {b} = \")\n",
        "    elif o == \"divide\":\n",
        "      invalid_operation = True\n",
        "      while (invalid_operation):\n",
        "        a = random.randint(1,v)\n",
        "        invalid_operation = (v*a > 1000) or (a == 1)\n",
        "      calc_dict[c] = str(f\"{v*a} ÷ {a} = \")\n",
        "    elif o == \"add\":\n",
        "      a = random.randint(1,v)\n",
        "      calc_dict[c] = str(f\"{v-a} + {a} = \")\n",
        "    elif o == \"subtract\":\n",
        "      a = random.randint(1,v)\n",
        "      calc_dict[c] = str(f\"{v+a} - {a} = \")\n",
        "    else:\n",
        "      print(f\"error, op {o} not found\")\n",
        "  return calc_dict"
      ],
      "execution_count": 0,
      "outputs": []
    },
    {
      "cell_type": "code",
      "metadata": {
        "id": "YGo8KnhYnR6o",
        "colab_type": "code",
        "colab": {}
      },
      "source": [
        "from fpdf import FPDF\n",
        "import numpy as np\n",
        " \n",
        "class PDF(FPDF):\n",
        "  def __init__(self, *args, **kwargs):\n",
        "    super().__init__(*args, **kwargs)    \n",
        "    self.length = 220\n",
        "    self.set_draw_color(0,0,0)\n",
        "\n",
        "  def write_operations(self, y =20, operations_dict={}):\n",
        "    colum_ht = int(len(operations_dict)/2)\n",
        "    self.set_font(\"Arial\", size=16)\n",
        "    current_col = \"left\"\n",
        "    current_y = y\n",
        "    cell_length = 60\n",
        "    for c, o in operations_dict.items():\n",
        "      if current_col == \"left\":\n",
        "        current_x = 10\n",
        "        self.set_xy(current_x,current_y)\n",
        "        self.cell(cell_length,cell_length, o, border=0,align=\"C\")\n",
        "        current_x += 40\n",
        "        self.set_xy(current_x,current_y)\n",
        "        self.cell(cell_length,cell_length, c, border=0,align=\"C\")\n",
        "        current_col = \"right\"\n",
        "      else:\n",
        "        current_x = 120\n",
        "        self.set_xy(current_x,current_y)\n",
        "        self.cell(cell_length,cell_length, o, border=0,align=\"C\")\n",
        "        current_x += 40\n",
        "        self.set_xy(current_x,current_y)\n",
        "        self.cell(cell_length,cell_length, c, border=0,align=\"C\")\n",
        "        current_col = \"left\"\n",
        "        current_y += 10\n",
        "\n",
        "  def generate_writing_line(self, x=20, y=20, segments = 10, line_array=[], font_size=12):\n",
        "    self.set_font(\"Arial\", size=font_size)\n",
        "    interval_between_lines = 20\n",
        "    line_y = y\n",
        "    line_dash_ratio = 2/3\n",
        "    distance_between_cells = (self.length-x) / segments \n",
        "    cell_length = line_dash_ratio * distance_between_cells \n",
        "    current_x = x\n",
        "    # c_to_write = np.resize(c_to_write, segments)\n",
        "    for w in line_array:\n",
        "      y_text_offset = +10\n",
        "      for c in w:\n",
        "        if c != \" \":\n",
        "          self.set_xy(current_x,y)\n",
        "          self.cell(cell_length,cell_length, border=\"B\",align=\"C\")\n",
        "          self.set_xy(current_x,y+y_text_offset)\n",
        "          self.cell(cell_length,cell_length, txt=str(c), border=0,align=\"C\")\n",
        "        current_x += distance_between_cells\n",
        "    return distance_between_cells\n",
        "  def add_title(self, title=\"exercise\", font_size=25, y = 5):\n",
        "    self.set_xy(0,y)\n",
        "    self.set_font(\"Arial\", size=font_size)\n",
        "    self.multi_cell(220, 10, txt=title, align=\"C\", border=0)"
      ],
      "execution_count": 0,
      "outputs": []
    },
    {
      "cell_type": "code",
      "metadata": {
        "id": "8wdub0bQnTNA",
        "colab_type": "code",
        "colab": {}
      },
      "source": [
        "def gen_worksheet(y_content = 50, y_title=30, \n",
        "                  sheet_title=\"Break the code!\", \n",
        "                  text_to_scramble = \"orangutan is hiding in the kitchen\",\n",
        "                  outputname=\"break_code.pdf\",\n",
        "                  ops = ['multiply','add','divide','subtract']):\n",
        "  TITLE_Y = y_title\n",
        "  CONTENT_Y = y_content\n",
        "\n",
        "  text_to_scramble = str.upper(text_to_scramble)\n",
        "  char_set = set(text_to_scramble)\n",
        "  char_set.remove(' ')\n",
        "  print(char_set)\n",
        "  decoder_ring = get_decoder_list(char_set)\n",
        "  sentence_coded = sentence_writing(text_to_scramble, decoder_ring)\n",
        "  print(decoder_ring)\n",
        "  code_array = grouped_by_line(sentence_coded)\n",
        "  operations_dict = generate_operations(decoder_ring,ops=ops)\n",
        "\n",
        "\n",
        "  pdf = PDF(orientation='Portrait', unit=\"mm\",format='letter')\n",
        "  pdf.add_page()\n",
        "  # pdf.add_title(sheet_title, y = TITLE_Y)\n",
        "  current_y = CONTENT_Y\n",
        "  segments = max([sum([len(wc) for wc in cline]) for cline in code_array])\n",
        "  \n",
        "  pdf.write_operations(y=10, operations_dict=operations_dict)\n",
        "  current_y = 120\n",
        "  for l in code_array:\n",
        "    pdf.generate_writing_line(y=current_y, line_array=l, segments = segments)\n",
        "    current_y += 25\n",
        "\n",
        "  pdf.output(outputname)\n",
        "  return "
      ],
      "execution_count": 0,
      "outputs": []
    },
    {
      "cell_type": "code",
      "metadata": {
        "id": "CrBrS1XqndPI",
        "colab_type": "code",
        "colab": {}
      },
      "source": [
        "def is_prime(num):\n",
        "  if num > 1:\n",
        "   # check for factors\n",
        "   for i in range(2,num):\n",
        "       if (num % i) == 0:\n",
        "           return False\n",
        "   else:\n",
        "       return True"
      ],
      "execution_count": 0,
      "outputs": []
    },
    {
      "cell_type": "markdown",
      "metadata": {
        "id": "B9zKbzM7nf4_",
        "colab_type": "text"
      },
      "source": [
        "# Generate worksheet"
      ]
    },
    {
      "cell_type": "code",
      "metadata": {
        "id": "2cEnO0Lvslus",
        "colab_type": "code",
        "colab": {}
      },
      "source": [
        ""
      ],
      "execution_count": 0,
      "outputs": []
    },
    {
      "cell_type": "markdown",
      "metadata": {
        "id": "pcvKG0TJnnNG",
        "colab_type": "text"
      },
      "source": [
        " - ops argument is a list with the operators you want to have appear \n",
        "ex ops = ['multiply','add','divide','subtract']\n",
        " - the file will be created under the notebook folder with the name \"break_code.pdf\""
      ]
    },
    {
      "cell_type": "code",
      "metadata": {
        "id": "b-fuISV_niTh",
        "colab_type": "code",
        "colab": {
          "base_uri": "https://localhost:8080/",
          "height": 71
        },
        "outputId": "9d0981fa-1f8c-4caa-8140-7fb79d55382e"
      },
      "source": [
        "gen_worksheet(text_to_scramble = \"kangaroo is on the refrigerator\", ops=['add','subtract'])"
      ],
      "execution_count": 9,
      "outputs": [
        {
          "output_type": "stream",
          "text": [
            "{'G', 'T', 'K', 'F', 'R', 'I', 'A', 'O', 'S', 'H', 'N', 'E'}\n",
            "{'G': 76, 'T': 120, 'K': 160, 'F': 77, 'R': 122, 'I': 57, 'A': 177, 'O': 67, 'S': 86, 'H': 70, 'N': 74, 'E': 20}\n"
          ],
          "name": "stdout"
        }
      ]
    },
    {
      "cell_type": "code",
      "metadata": {
        "id": "qKIrhO2qoOkk",
        "colab_type": "code",
        "colab": {}
      },
      "source": [
        ""
      ],
      "execution_count": 0,
      "outputs": []
    }
  ]
}